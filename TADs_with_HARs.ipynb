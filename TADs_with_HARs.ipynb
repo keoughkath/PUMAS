{
 "cells": [
  {
   "cell_type": "code",
   "execution_count": 30,
   "metadata": {},
   "outputs": [],
   "source": [
    "from pybedtools import BedTool\n",
    "import pandas as pd"
   ]
  },
  {
   "cell_type": "code",
   "execution_count": 31,
   "metadata": {},
   "outputs": [],
   "source": [
    "TADs = pd.read_csv(\"dataSets/TAD_HAR_intersect_count.bed\",sep=\"\\t\",names=[\"chrom\",\"start\",\"stop\",\"count\"])\n",
    "variants = pd.read_csv(\"dataSets/fixed_indels.bed\",sep=\"\\t\",names=[\"chrom\",\"start\",\"stop\",\"status\"])"
   ]
  },
  {
   "cell_type": "code",
   "execution_count": 39,
   "metadata": {},
   "outputs": [
    {
     "name": "stdout",
     "output_type": "stream",
     "text": [
      "TADs_w_HARs count: 1252\n",
      "---------\n",
      "TADs_wOUT_HARs count: 7997\n",
      "---------\n",
      "check: 9249\n",
      "---------\n",
      "check: 9249\n",
      "---------\n",
      "Percentage of TADs w/ HARs: 13.536598551194723%\n",
      "Percentage of TADs w/out HARs: 86.46340144880527%\n"
     ]
    }
   ],
   "source": [
    "TADs_w_HARs = TADs.query(\"count != '0'\").copy()\n",
    "TADs_wOUT_HARs = TADs.query(\"count == '0'\").copy()\n",
    "cases = variants.query(\"status == 'case'\")\n",
    "controls = variants.query(\"status == 'control'\")\n",
    "print('TADs_w_HARs count: '+str(len(TADs_w_HARs)))\n",
    "print(\"---------\")\n",
    "print(\"TADs_wOUT_HARs count: \"+str(len(TADs_wOUT_HARs)))\n",
    "print(\"---------\")\n",
    "print('check: '+str(len(TADs_w_HARs)+len(TADs_wOUT_HARs)))\n",
    "print(\"---------\")\n",
    "print('check: '+str(len(TADs)))\n",
    "print(\"---------\")\n",
    "print('Percentage of TADs w/ HARs: ' + str((len(TADs_w_HARs)/len(TADs))*100) + '%')\n",
    "print('Percentage of TADs w/out HARs: ' + str((len(TADs_wOUT_HARs)/len(TADs))*100) + '%')"
   ]
  },
  {
   "cell_type": "code",
   "execution_count": 33,
   "metadata": {},
   "outputs": [],
   "source": [
    "w_HAR = BedTool.from_dataframe(TADs_w_HARs)\n",
    "wOUT_HAR = BedTool.from_dataframe(TADs_wOUT_HARs)\n",
    "case = BedTool.from_dataframe(cases)\n",
    "control = BedTool.from_dataframe(controls)"
   ]
  },
  {
   "cell_type": "code",
   "execution_count": 40,
   "metadata": {},
   "outputs": [
    {
     "name": "stdout",
     "output_type": "stream",
     "text": [
      "chr1\t68519317\t69794317\t1\n",
      " chr1\t48899328\t50344328\t1\n",
      " chr1\t163390210\t164925763\t3\n",
      " chr1\t176885864\t177975865\t5\n",
      " chr1\t56819327\t58049328\t6\n",
      " chr1\t2793435\t3423436\t2\n",
      " chr1\t177225864\t177955865\t3\n",
      " chr1\t213236657\t214156657\t3\n",
      " chr1\t217801658\t218191658\t2\n",
      " chr1\t74759316\t75204315\t1\n",
      " "
     ]
    }
   ],
   "source": [
    "w_HAR.head()"
   ]
  },
  {
   "cell_type": "code",
   "execution_count": 41,
   "metadata": {},
   "outputs": [],
   "source": [
    "case_w_HARs = case.intersect(w_HAR)\n",
    "case_wOUT_HARs = case.intersect(wOUT_HAR)\n",
    "control_w_HARs = control.intersect(w_HAR)\n",
    "control_wOUT_HARs = control.intersect(wOUT_HAR)"
   ]
  },
  {
   "cell_type": "code",
   "execution_count": 42,
   "metadata": {},
   "outputs": [
    {
     "name": "stdout",
     "output_type": "stream",
     "text": [
      "case_w_HARs: 2183\n",
      "case_wOUT_HARs: 7062\n",
      "control_w_HARs: 2037\n",
      "control_wOUT_HARs: 7082\n"
     ]
    }
   ],
   "source": [
    "print('case_w_HARs: '+str(len(case_w_HARs)))\n",
    "print('case_wOUT_HARs: '+str(len(case_wOUT_HARs)))\n",
    "print('control_w_HARs: '+str(len(control_w_HARs)))\n",
    "print('control_wOUT_HARs: '+str(len(control_wOUT_HARs)))"
   ]
  },
  {
   "cell_type": "code",
   "execution_count": null,
   "metadata": {},
   "outputs": [],
   "source": []
  }
 ],
 "metadata": {
  "kernelspec": {
   "display_name": "Python 3",
   "language": "python",
   "name": "python3"
  },
  "language_info": {
   "codemirror_mode": {
    "name": "ipython",
    "version": 3
   },
   "file_extension": ".py",
   "mimetype": "text/x-python",
   "name": "python",
   "nbconvert_exporter": "python",
   "pygments_lexer": "ipython3",
   "version": "3.7.3"
  }
 },
 "nbformat": 4,
 "nbformat_minor": 2
}
