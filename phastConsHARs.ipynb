{
 "cells": [
  {
   "cell_type": "code",
   "execution_count": 24,
   "metadata": {},
   "outputs": [],
   "source": [
    "from pybedtools import BedTool\n",
    "import pandas as pd"
   ]
  },
  {
   "cell_type": "markdown",
   "metadata": {},
   "source": [
    "Creating the HARs BedTool from file"
   ]
  },
  {
   "cell_type": "code",
   "execution_count": 130,
   "metadata": {},
   "outputs": [],
   "source": [
    "a = pd.read_csv('dataSets/capra_hars_hg38.bed', sep='\\t',\n",
    "                header=None, names=['chrom','start','stop','name'])\n",
    "b = a.query(\"(start < stop) and (start != 0) and (stop != 0)\").copy()\n",
    "HARs = BedTool.from_dataframe(b)"
   ]
  },
  {
   "cell_type": "markdown",
   "metadata": {},
   "source": [
    "Intersecting the filtered phastcons with HARs"
   ]
  },
  {
   "cell_type": "code",
   "execution_count": null,
   "metadata": {},
   "outputs": [],
   "source": [
    "filteredCons = pd.read_csv(\"dataSets/phastCons_placentals_hg38masked_d0_filt_min50.bed\", sep=\"\\t\",header=None,names=[\"chrom\",\"start\",\"stop\",\"name\"])\n",
    "phastcons_filtered = BedTool.from_dataframe(filteredCons)\n",
    "filtered_intersect_HARs = bedphastFilteredCons.intersect(HARs)"
   ]
  },
  {
   "cell_type": "markdown",
   "metadata": {},
   "source": [
    "Intersecting the unfiltered phastcons with HARs"
   ]
  },
  {
   "cell_type": "code",
   "execution_count": null,
   "metadata": {},
   "outputs": [],
   "source": [
    "unfilteredCons = pd.read_csv(\"dataSets/phastCons_placentals_hg38masked_d0_nofilt_min50.bed\", sep=\"\\t\",header=None,names=[\"chrom\",\"start\",\"stop\",\"name\"])\n",
    "phastcons_unfiltered = BedTool.from_dataframe(unfilteredCons)\n",
    "unFiltered_intersect_HARs = bedphastUnfilteredCons.intersect(HARs)"
   ]
  },
  {
   "cell_type": "markdown",
   "metadata": {},
   "source": [
    "Creating case/control varient BedTool"
   ]
  },
  {
   "cell_type": "code",
   "execution_count": null,
   "metadata": {},
   "outputs": [],
   "source": [
    "variants = pd.read_csv('dataSets/table-S2-fixed.bed', sep='\\t',\n",
    "                header=None, names=['chrom','start','stop','patientStatus',\n",
    "                                   'varType'])\n",
    "indels = variants.query('varType == \"Indel\"').copy()\n",
    "c = indels.query('patientStatus == \"case\"').copy()\n",
    "d = indels.query('patientStatus == \"control\"').copy()\n",
    "case_indels = BedTool.from_dataframe(c)\n",
    "control_indels = BedTool.from_dataframe(d)"
   ]
  },
  {
   "cell_type": "markdown",
   "metadata": {},
   "source": [
    "Making intersections between case/control with Indels and with HARS"
   ]
  },
  {
   "cell_type": "code",
   "execution_count": 158,
   "metadata": {},
   "outputs": [],
   "source": [
    "case_intersect_Phastcons = case_indels.intersect(phastcons_unfiltered)\n",
    "control_intersect_Phastcons = control_indels.intersect(phastcons_unfiltered)\n",
    "case_intersect_HARs = case_indels.intersect(HARs)\n",
    "control_intersect_HARs = control_indels.intersect(HARs)\n"
   ]
  },
  {
   "cell_type": "code",
   "execution_count": 172,
   "metadata": {},
   "outputs": [
    {
     "name": "stdout",
     "output_type": "stream",
     "text": [
      "total filtered phastcons found in HARs: 2734\n",
      "percentage filtered phastcons found in HARS: 0.6359263497734483%\n",
      "---------------------\n",
      "total UNfiltered phastcons found in HARs: 10193\n",
      "percentage UNfiltered phastcons found in HARS: 0.16543546304644383%\n",
      "---------------------\n",
      "total indels both case and control: 21152\n",
      "---------------------\n",
      "total case indels: 10710\n",
      "percent of cases in total indels: 50.63350983358548%\n",
      "case indels found in unfiltered phastcons: 938\n",
      "percent case indels found in phastcons: 8.758169934640522%\n",
      "---------------------\n",
      "total control indels: 10442\n",
      "percent of controls in total indels: 49.36649016641452%\n",
      "control deletions found in unfiltered phastcons: 867\n",
      "percent control indels found in phastcons: 8.303007086764987%\n"
     ]
    }
   ],
   "source": [
    "print(\"total filtered phastcons found in HARs: \" + str(len(filtered_intersect_HARs)))\n",
    "print(\"percentage filtered phastcons found in HARS: \" + str(len(filtered_intersect_HARs)/len(phastcons_filtered)*100)+ \"%\")\n",
    "print(\"---------------------\")\n",
    "print(\"total UNfiltered phastcons found in HARs: \" + str(len(unFiltered_intersect_HARs)))\n",
    "print(\"percentage UNfiltered phastcons found in HARS: \" + str(len(unFiltered_intersect_HARs)/len(phastcons_unfiltered)*100)+ \"%\")\n",
    "print(\"---------------------\")\n",
    "print(\"total indels both case and control: \" + str(len(indels)))\n",
    "print(\"---------------------\")\n",
    "print(\"total case indels: \" + str(len(case_indels)))\n",
    "print(\"percent of cases in total indels: \" + str(len(case_indels)/len(indels)*100) + \"%\")\n",
    "print(\"case indels found in unfiltered phastcons: \"+ str(len(case_intersect_Phastcons)))\n",
    "print(\"percent case indels found in phastcons: \" +str(len(case_intersect_Phastcons)/len(case_indels)*100)+ \"%\")\n",
    "print(\"---------------------\")\n",
    "print(\"total control indels: \" + str(len(control_indels)))\n",
    "print(\"percent of controls in total indels: \" + str(len(control_indels)/len(indels)*100) + \"%\")\n",
    "print(\"control deletions found in unfiltered phastcons: \"+ str(len(control_intersect_Phastcons)))\n",
    "print(\"percent control indels found in phastcons: \" +str(len(control_intersect_Phastcons)/len(control_indels)*100)+ \"%\")"
   ]
  },
  {
   "cell_type": "code",
   "execution_count": null,
   "metadata": {},
   "outputs": [],
   "source": []
  },
  {
   "cell_type": "code",
   "execution_count": null,
   "metadata": {},
   "outputs": [],
   "source": []
  },
  {
   "cell_type": "code",
   "execution_count": null,
   "metadata": {},
   "outputs": [],
   "source": []
  },
  {
   "cell_type": "code",
   "execution_count": null,
   "metadata": {},
   "outputs": [],
   "source": []
  }
 ],
 "metadata": {
  "kernelspec": {
   "display_name": "Python 3",
   "language": "python",
   "name": "python3"
  }
 },
 "nbformat": 4,
 "nbformat_minor": 2
}
